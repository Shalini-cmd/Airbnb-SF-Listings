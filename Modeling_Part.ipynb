{
 "cells": [
  {
   "cell_type": "code",
   "execution_count": 168,
   "metadata": {},
   "outputs": [],
   "source": [
    "import pandas as pd\n",
    "from sklearn.linear_model import LinearRegression\n",
    "from sklearn.ensemble import RandomForestRegressor\n",
    "from sklearn.metrics import mean_squared_error\n",
    "from sklearn.model_selection import GridSearchCV"
   ]
  },
  {
   "cell_type": "code",
   "execution_count": 296,
   "metadata": {},
   "outputs": [],
   "source": [
    "data_pricing = pd.read_csv('./sf_airbnb_clean.csv')"
   ]
  },
  {
   "cell_type": "code",
   "execution_count": 297,
   "metadata": {},
   "outputs": [
    {
     "data": {
      "text/plain": [
       "['number_of_reviews',\n",
       " 'number_of_reviews_ltm',\n",
       " 'review_scores_rating',\n",
       " 'review_scores_accuracy',\n",
       " 'review_scores_cleanliness',\n",
       " 'review_scores_checkin',\n",
       " 'review_scores_communication',\n",
       " 'review_scores_location',\n",
       " 'review_scores_value',\n",
       " 'reviews_per_month']"
      ]
     },
     "execution_count": 297,
     "metadata": {},
     "output_type": "execute_result"
    }
   ],
   "source": [
    "[x for x in data_pricing.columns if 'review' in x]"
   ]
  },
  {
   "cell_type": "code",
   "execution_count": 258,
   "metadata": {},
   "outputs": [
    {
     "data": {
      "text/plain": [
       "0       (80.0, 100.0]\n",
       "1       (80.0, 100.0]\n",
       "2       (80.0, 100.0]\n",
       "3       (80.0, 100.0]\n",
       "4       (80.0, 100.0]\n",
       "            ...      \n",
       "8106              NaN\n",
       "8107              NaN\n",
       "8108              NaN\n",
       "8109              NaN\n",
       "8110              NaN\n",
       "Name: review_scores_rating, Length: 8111, dtype: category\n",
       "Categories (4, interval[float64]): [(19.92, 40.0] < (40.0, 60.0] < (60.0, 80.0] < (80.0, 100.0]]"
      ]
     },
     "execution_count": 258,
     "metadata": {},
     "output_type": "execute_result"
    }
   ],
   "source": [
    "pd.cut(data_pricing['review_scores_rating'], bins=4)"
   ]
  },
  {
   "cell_type": "code",
   "execution_count": 274,
   "metadata": {},
   "outputs": [
    {
     "data": {
      "text/plain": [
       "Index(['id', 'host_id', 'host_response_time', 'host_response_rate',\n",
       "       'host_is_superhost', 'host_listings_count', 'host_total_listings_count',\n",
       "       'host_has_profile_pic', 'host_identity_verified',\n",
       "       'neighbourhood_cleansed', 'latitude', 'longitude', 'is_location_exact',\n",
       "       'property_type', 'room_type', 'accommodates', 'bathrooms', 'bedrooms',\n",
       "       'beds', 'bed_type', 'price', 'security_deposit', 'cleaning_fee',\n",
       "       'guests_included', 'extra_people', 'minimum_nights', 'maximum_nights',\n",
       "       'minimum_minimum_nights', 'maximum_minimum_nights',\n",
       "       'minimum_maximum_nights', 'maximum_maximum_nights',\n",
       "       'minimum_nights_avg_ntm', 'maximum_nights_avg_ntm', 'calendar_updated',\n",
       "       'availability_30', 'availability_60', 'availability_90',\n",
       "       'availability_365', 'number_of_reviews', 'number_of_reviews_ltm',\n",
       "       'review_scores_rating', 'review_scores_accuracy',\n",
       "       'review_scores_cleanliness', 'review_scores_checkin',\n",
       "       'review_scores_communication', 'review_scores_location',\n",
       "       'review_scores_value', 'requires_license', 'instant_bookable',\n",
       "       'cancellation_policy', 'require_guest_profile_picture',\n",
       "       'require_guest_phone_verification', 'calculated_host_listings_count',\n",
       "       'calculated_host_listings_count_entire_homes',\n",
       "       'calculated_host_listings_count_private_rooms',\n",
       "       'calculated_host_listings_count_shared_rooms', 'reviews_per_month',\n",
       "       'with_wifi', 'with_air_conditioning', 'with_cable_tv', 'pets_allowed'],\n",
       "      dtype='object')"
      ]
     },
     "execution_count": 274,
     "metadata": {},
     "output_type": "execute_result"
    }
   ],
   "source": [
    "data_pricing.columns"
   ]
  },
  {
   "cell_type": "code",
   "execution_count": 265,
   "metadata": {},
   "outputs": [
    {
     "data": {
      "text/plain": [
       "97.41317179248213"
      ]
     },
     "execution_count": 265,
     "metadata": {},
     "output_type": "execute_result"
    }
   ],
   "source": [
    "data_pricing.loc[data_pricing['host_is_superhost'] == 1]['review_scores_rating'].mean()"
   ]
  },
  {
   "cell_type": "code",
   "execution_count": 266,
   "metadata": {
    "scrolled": true
   },
   "outputs": [
    {
     "data": {
      "text/plain": [
       "93.43705536653263"
      ]
     },
     "execution_count": 266,
     "metadata": {},
     "output_type": "execute_result"
    }
   ],
   "source": [
    "data_pricing.loc[data_pricing['host_is_superhost'] == 0]['review_scores_rating'].mean()"
   ]
  },
  {
   "cell_type": "code",
   "execution_count": 269,
   "metadata": {},
   "outputs": [
    {
     "data": {
      "text/plain": [
       "150.0"
      ]
     },
     "execution_count": 269,
     "metadata": {},
     "output_type": "execute_result"
    }
   ],
   "source": [
    "data_pricing.loc[data_pricing['host_is_superhost'] == 1]['price'].median()"
   ]
  },
  {
   "cell_type": "code",
   "execution_count": 270,
   "metadata": {},
   "outputs": [
    {
     "data": {
      "text/plain": [
       "153.0"
      ]
     },
     "execution_count": 270,
     "metadata": {},
     "output_type": "execute_result"
    }
   ],
   "source": [
    "data_pricing.loc[data_pricing['host_is_superhost'] == 0]['price'].median()"
   ]
  },
  {
   "cell_type": "code",
   "execution_count": 357,
   "metadata": {},
   "outputs": [
    {
     "data": {
      "text/plain": [
       "2.0"
      ]
     },
     "execution_count": 357,
     "metadata": {},
     "output_type": "execute_result"
    }
   ],
   "source": [
    "data_pricing.loc[data_pricing['host_is_superhost'] == 0]['listing_id'].median()"
   ]
  },
  {
   "cell_type": "code",
   "execution_count": 358,
   "metadata": {},
   "outputs": [
    {
     "data": {
      "text/plain": [
       "4.0"
      ]
     },
     "execution_count": 358,
     "metadata": {},
     "output_type": "execute_result"
    }
   ],
   "source": [
    "data_pricing.loc[data_pricing['host_is_superhost'] == 1]['listing_id'].median()"
   ]
  },
  {
   "cell_type": "code",
   "execution_count": 275,
   "metadata": {},
   "outputs": [
    {
     "data": {
      "text/plain": [
       "2.0"
      ]
     },
     "execution_count": 275,
     "metadata": {},
     "output_type": "execute_result"
    }
   ],
   "source": [
    "data_pricing.loc[data_pricing['host_is_superhost'] == 1]['host_listings_count'].median()"
   ]
  },
  {
   "cell_type": "code",
   "execution_count": 276,
   "metadata": {},
   "outputs": [
    {
     "data": {
      "text/plain": [
       "3.0"
      ]
     },
     "execution_count": 276,
     "metadata": {},
     "output_type": "execute_result"
    }
   ],
   "source": [
    "data_pricing.loc[data_pricing['host_is_superhost'] == 0]['host_listings_count'].median()"
   ]
  },
  {
   "cell_type": "code",
   "execution_count": null,
   "metadata": {},
   "outputs": [],
   "source": []
  },
  {
   "cell_type": "code",
   "execution_count": 279,
   "metadata": {},
   "outputs": [],
   "source": [
    "listings_sf = pd.read_csv('./listings_sf.csv')"
   ]
  },
  {
   "cell_type": "code",
   "execution_count": 283,
   "metadata": {},
   "outputs": [],
   "source": [
    "listings_sf['last_review'] = listings_sf['last_review'].fillna(0)"
   ]
  },
  {
   "cell_type": "code",
   "execution_count": 290,
   "metadata": {},
   "outputs": [],
   "source": [
    "reviews = pd.read_csv('./reviews.csv')"
   ]
  },
  {
   "cell_type": "code",
   "execution_count": 291,
   "metadata": {},
   "outputs": [],
   "source": [
    "reviews['date'] = pd.to_datetime(reviews['date'])"
   ]
  },
  {
   "cell_type": "code",
   "execution_count": 342,
   "metadata": {},
   "outputs": [],
   "source": [
    "reviews['year'] = pd.DatetimeIndex(reviews['date']).year\n",
    "reviews['month'] = pd.DatetimeIndex(reviews['date']).month"
   ]
  },
  {
   "cell_type": "code",
   "execution_count": 347,
   "metadata": {},
   "outputs": [],
   "source": [
    "number_reviews = reviews.loc[(reviews['year'] == 2019) & \n",
    "                             (reviews['month'] == 9)]['listing_id'].value_counts().reset_index()"
   ]
  },
  {
   "cell_type": "code",
   "execution_count": 350,
   "metadata": {},
   "outputs": [
    {
     "data": {
      "text/html": [
       "<div>\n",
       "<style scoped>\n",
       "    .dataframe tbody tr th:only-of-type {\n",
       "        vertical-align: middle;\n",
       "    }\n",
       "\n",
       "    .dataframe tbody tr th {\n",
       "        vertical-align: top;\n",
       "    }\n",
       "\n",
       "    .dataframe thead th {\n",
       "        text-align: right;\n",
       "    }\n",
       "</style>\n",
       "<table border=\"1\" class=\"dataframe\">\n",
       "  <thead>\n",
       "    <tr style=\"text-align: right;\">\n",
       "      <th></th>\n",
       "      <th>index</th>\n",
       "      <th>listing_id</th>\n",
       "    </tr>\n",
       "  </thead>\n",
       "  <tbody>\n",
       "    <tr>\n",
       "      <th>0</th>\n",
       "      <td>33942157</td>\n",
       "      <td>23</td>\n",
       "    </tr>\n",
       "    <tr>\n",
       "      <th>1</th>\n",
       "      <td>364397</td>\n",
       "      <td>17</td>\n",
       "    </tr>\n",
       "    <tr>\n",
       "      <th>2</th>\n",
       "      <td>958507</td>\n",
       "      <td>17</td>\n",
       "    </tr>\n",
       "    <tr>\n",
       "      <th>3</th>\n",
       "      <td>15343159</td>\n",
       "      <td>16</td>\n",
       "    </tr>\n",
       "    <tr>\n",
       "      <th>4</th>\n",
       "      <td>21122475</td>\n",
       "      <td>15</td>\n",
       "    </tr>\n",
       "  </tbody>\n",
       "</table>\n",
       "</div>"
      ],
      "text/plain": [
       "      index  listing_id\n",
       "0  33942157          23\n",
       "1    364397          17\n",
       "2    958507          17\n",
       "3  15343159          16\n",
       "4  21122475          15"
      ]
     },
     "execution_count": 350,
     "metadata": {},
     "output_type": "execute_result"
    }
   ],
   "source": []
  },
  {
   "cell_type": "code",
   "execution_count": 356,
   "metadata": {},
   "outputs": [],
   "source": [
    "data_pricing = number_reviews.merge(data_pricing, left_on='index', right_on='id', how='right')"
   ]
  },
  {
   "cell_type": "code",
   "execution_count": 355,
   "metadata": {},
   "outputs": [
    {
     "data": {
      "text/plain": [
       "0       23.0\n",
       "1       17.0\n",
       "2       17.0\n",
       "3       16.0\n",
       "4       15.0\n",
       "        ... \n",
       "8106     NaN\n",
       "8107     NaN\n",
       "8108     NaN\n",
       "8109     NaN\n",
       "8110     NaN\n",
       "Name: listing_id, Length: 8111, dtype: float64"
      ]
     },
     "execution_count": 355,
     "metadata": {},
     "output_type": "execute_result"
    }
   ],
   "source": []
  },
  {
   "cell_type": "code",
   "execution_count": 278,
   "metadata": {},
   "outputs": [
    {
     "data": {
      "text/plain": [
       "0.0    4557\n",
       "1.0    3546\n",
       "Name: host_is_superhost, dtype: int64"
      ]
     },
     "execution_count": 278,
     "metadata": {},
     "output_type": "execute_result"
    }
   ],
   "source": [
    "data_pricing['host_is_superhost'].value_counts()"
   ]
  },
  {
   "cell_type": "code",
   "execution_count": 261,
   "metadata": {
    "scrolled": true
   },
   "outputs": [
    {
     "data": {
      "text/plain": [
       "100.0    1912\n",
       "98.0      768\n",
       "99.0      717\n",
       "97.0      604\n",
       "96.0      478\n",
       "95.0      374\n",
       "94.0      250\n",
       "93.0      239\n",
       "90.0      174\n",
       "80.0      167\n",
       "92.0      144\n",
       "91.0      101\n",
       "87.0       76\n",
       "89.0       75\n",
       "88.0       70\n",
       "60.0       57\n",
       "85.0       48\n",
       "70.0       30\n",
       "86.0       28\n",
       "84.0       26\n",
       "83.0       21\n",
       "40.0       13\n",
       "20.0       11\n",
       "82.0       11\n",
       "73.0        9\n",
       "75.0        8\n",
       "78.0        7\n",
       "81.0        7\n",
       "77.0        6\n",
       "76.0        5\n",
       "74.0        5\n",
       "50.0        3\n",
       "67.0        3\n",
       "79.0        2\n",
       "72.0        2\n",
       "69.0        1\n",
       "68.0        1\n",
       "71.0        1\n",
       "47.0        1\n",
       "56.0        1\n",
       "64.0        1\n",
       "65.0        1\n",
       "55.0        1\n",
       "30.0        1\n",
       "Name: review_scores_rating, dtype: int64"
      ]
     },
     "execution_count": 261,
     "metadata": {},
     "output_type": "execute_result"
    }
   ],
   "source": [
    "data_pricing['review_scores_rating'].value_counts()"
   ]
  },
  {
   "cell_type": "code",
   "execution_count": 325,
   "metadata": {},
   "outputs": [],
   "source": [
    "data = pd.read_csv('./sf_airbnb_clean.csv')\n",
    "data = data.drop(['id','host_id'], axis=1)"
   ]
  },
  {
   "cell_type": "code",
   "execution_count": 326,
   "metadata": {},
   "outputs": [],
   "source": [
    "dummy_encoded = pd.get_dummies(data)"
   ]
  },
  {
   "cell_type": "code",
   "execution_count": 327,
   "metadata": {},
   "outputs": [
    {
     "data": {
      "text/html": [
       "<div>\n",
       "<style scoped>\n",
       "    .dataframe tbody tr th:only-of-type {\n",
       "        vertical-align: middle;\n",
       "    }\n",
       "\n",
       "    .dataframe tbody tr th {\n",
       "        vertical-align: top;\n",
       "    }\n",
       "\n",
       "    .dataframe thead th {\n",
       "        text-align: right;\n",
       "    }\n",
       "</style>\n",
       "<table border=\"1\" class=\"dataframe\">\n",
       "  <thead>\n",
       "    <tr style=\"text-align: right;\">\n",
       "      <th></th>\n",
       "      <th>host_response_rate</th>\n",
       "      <th>host_is_superhost</th>\n",
       "      <th>host_listings_count</th>\n",
       "      <th>host_total_listings_count</th>\n",
       "      <th>host_has_profile_pic</th>\n",
       "      <th>host_identity_verified</th>\n",
       "      <th>latitude</th>\n",
       "      <th>longitude</th>\n",
       "      <th>is_location_exact</th>\n",
       "      <th>accommodates</th>\n",
       "      <th>...</th>\n",
       "      <th>calendar_updated_a week ago</th>\n",
       "      <th>calendar_updated_never</th>\n",
       "      <th>calendar_updated_today</th>\n",
       "      <th>calendar_updated_yesterday</th>\n",
       "      <th>cancellation_policy_flexible</th>\n",
       "      <th>cancellation_policy_moderate</th>\n",
       "      <th>cancellation_policy_strict</th>\n",
       "      <th>cancellation_policy_strict_14_with_grace_period</th>\n",
       "      <th>cancellation_policy_super_strict_30</th>\n",
       "      <th>cancellation_policy_super_strict_60</th>\n",
       "    </tr>\n",
       "  </thead>\n",
       "  <tbody>\n",
       "    <tr>\n",
       "      <th>0</th>\n",
       "      <td>100.0</td>\n",
       "      <td>1.0</td>\n",
       "      <td>1.0</td>\n",
       "      <td>1.0</td>\n",
       "      <td>1.0</td>\n",
       "      <td>1.0</td>\n",
       "      <td>37.76931</td>\n",
       "      <td>-122.43386</td>\n",
       "      <td>1.0</td>\n",
       "      <td>3</td>\n",
       "      <td>...</td>\n",
       "      <td>0</td>\n",
       "      <td>0</td>\n",
       "      <td>0</td>\n",
       "      <td>0</td>\n",
       "      <td>0</td>\n",
       "      <td>1</td>\n",
       "      <td>0</td>\n",
       "      <td>0</td>\n",
       "      <td>0</td>\n",
       "      <td>0</td>\n",
       "    </tr>\n",
       "    <tr>\n",
       "      <th>1</th>\n",
       "      <td>100.0</td>\n",
       "      <td>1.0</td>\n",
       "      <td>2.0</td>\n",
       "      <td>2.0</td>\n",
       "      <td>1.0</td>\n",
       "      <td>1.0</td>\n",
       "      <td>37.75402</td>\n",
       "      <td>-122.45805</td>\n",
       "      <td>1.0</td>\n",
       "      <td>2</td>\n",
       "      <td>...</td>\n",
       "      <td>0</td>\n",
       "      <td>0</td>\n",
       "      <td>0</td>\n",
       "      <td>0</td>\n",
       "      <td>0</td>\n",
       "      <td>0</td>\n",
       "      <td>0</td>\n",
       "      <td>1</td>\n",
       "      <td>0</td>\n",
       "      <td>0</td>\n",
       "    </tr>\n",
       "    <tr>\n",
       "      <th>2</th>\n",
       "      <td>80.0</td>\n",
       "      <td>0.0</td>\n",
       "      <td>2.0</td>\n",
       "      <td>2.0</td>\n",
       "      <td>1.0</td>\n",
       "      <td>1.0</td>\n",
       "      <td>37.74511</td>\n",
       "      <td>-122.42102</td>\n",
       "      <td>1.0</td>\n",
       "      <td>5</td>\n",
       "      <td>...</td>\n",
       "      <td>0</td>\n",
       "      <td>0</td>\n",
       "      <td>0</td>\n",
       "      <td>0</td>\n",
       "      <td>0</td>\n",
       "      <td>0</td>\n",
       "      <td>0</td>\n",
       "      <td>1</td>\n",
       "      <td>0</td>\n",
       "      <td>0</td>\n",
       "    </tr>\n",
       "    <tr>\n",
       "      <th>3</th>\n",
       "      <td>86.0</td>\n",
       "      <td>1.0</td>\n",
       "      <td>10.0</td>\n",
       "      <td>10.0</td>\n",
       "      <td>1.0</td>\n",
       "      <td>1.0</td>\n",
       "      <td>37.76669</td>\n",
       "      <td>-122.45250</td>\n",
       "      <td>1.0</td>\n",
       "      <td>2</td>\n",
       "      <td>...</td>\n",
       "      <td>0</td>\n",
       "      <td>0</td>\n",
       "      <td>0</td>\n",
       "      <td>0</td>\n",
       "      <td>0</td>\n",
       "      <td>0</td>\n",
       "      <td>0</td>\n",
       "      <td>1</td>\n",
       "      <td>0</td>\n",
       "      <td>0</td>\n",
       "    </tr>\n",
       "    <tr>\n",
       "      <th>4</th>\n",
       "      <td>86.0</td>\n",
       "      <td>1.0</td>\n",
       "      <td>10.0</td>\n",
       "      <td>10.0</td>\n",
       "      <td>1.0</td>\n",
       "      <td>1.0</td>\n",
       "      <td>37.76487</td>\n",
       "      <td>-122.45183</td>\n",
       "      <td>1.0</td>\n",
       "      <td>2</td>\n",
       "      <td>...</td>\n",
       "      <td>0</td>\n",
       "      <td>0</td>\n",
       "      <td>0</td>\n",
       "      <td>0</td>\n",
       "      <td>0</td>\n",
       "      <td>0</td>\n",
       "      <td>0</td>\n",
       "      <td>1</td>\n",
       "      <td>0</td>\n",
       "      <td>0</td>\n",
       "    </tr>\n",
       "  </tbody>\n",
       "</table>\n",
       "<p>5 rows × 198 columns</p>\n",
       "</div>"
      ],
      "text/plain": [
       "   host_response_rate  host_is_superhost  host_listings_count  \\\n",
       "0               100.0                1.0                  1.0   \n",
       "1               100.0                1.0                  2.0   \n",
       "2                80.0                0.0                  2.0   \n",
       "3                86.0                1.0                 10.0   \n",
       "4                86.0                1.0                 10.0   \n",
       "\n",
       "   host_total_listings_count  host_has_profile_pic  host_identity_verified  \\\n",
       "0                        1.0                   1.0                     1.0   \n",
       "1                        2.0                   1.0                     1.0   \n",
       "2                        2.0                   1.0                     1.0   \n",
       "3                       10.0                   1.0                     1.0   \n",
       "4                       10.0                   1.0                     1.0   \n",
       "\n",
       "   latitude  longitude  is_location_exact  accommodates  ...  \\\n",
       "0  37.76931 -122.43386                1.0             3  ...   \n",
       "1  37.75402 -122.45805                1.0             2  ...   \n",
       "2  37.74511 -122.42102                1.0             5  ...   \n",
       "3  37.76669 -122.45250                1.0             2  ...   \n",
       "4  37.76487 -122.45183                1.0             2  ...   \n",
       "\n",
       "   calendar_updated_a week ago  calendar_updated_never  \\\n",
       "0                            0                       0   \n",
       "1                            0                       0   \n",
       "2                            0                       0   \n",
       "3                            0                       0   \n",
       "4                            0                       0   \n",
       "\n",
       "   calendar_updated_today  calendar_updated_yesterday  \\\n",
       "0                       0                           0   \n",
       "1                       0                           0   \n",
       "2                       0                           0   \n",
       "3                       0                           0   \n",
       "4                       0                           0   \n",
       "\n",
       "   cancellation_policy_flexible  cancellation_policy_moderate  \\\n",
       "0                             0                             1   \n",
       "1                             0                             0   \n",
       "2                             0                             0   \n",
       "3                             0                             0   \n",
       "4                             0                             0   \n",
       "\n",
       "   cancellation_policy_strict  \\\n",
       "0                           0   \n",
       "1                           0   \n",
       "2                           0   \n",
       "3                           0   \n",
       "4                           0   \n",
       "\n",
       "   cancellation_policy_strict_14_with_grace_period  \\\n",
       "0                                                0   \n",
       "1                                                1   \n",
       "2                                                1   \n",
       "3                                                1   \n",
       "4                                                1   \n",
       "\n",
       "   cancellation_policy_super_strict_30  cancellation_policy_super_strict_60  \n",
       "0                                    0                                    0  \n",
       "1                                    0                                    0  \n",
       "2                                    0                                    0  \n",
       "3                                    0                                    0  \n",
       "4                                    0                                    0  \n",
       "\n",
       "[5 rows x 198 columns]"
      ]
     },
     "execution_count": 327,
     "metadata": {},
     "output_type": "execute_result"
    }
   ],
   "source": [
    "dummy_encoded.head()"
   ]
  },
  {
   "cell_type": "code",
   "execution_count": 328,
   "metadata": {},
   "outputs": [],
   "source": [
    "dummy_encoded = dummy_encoded.drop(['longitude', 'latitude'], axis=1)"
   ]
  },
  {
   "cell_type": "code",
   "execution_count": 329,
   "metadata": {},
   "outputs": [],
   "source": [
    "dummy_encoded = dummy_encoded.dropna(axis=0, subset=['review_scores_rating'])"
   ]
  },
  {
   "cell_type": "code",
   "execution_count": 330,
   "metadata": {},
   "outputs": [],
   "source": [
    "dummy_encoded = dummy_encoded.drop(['number_of_reviews',\n",
    " 'number_of_reviews_ltm',\n",
    " 'review_scores_accuracy',\n",
    " 'review_scores_cleanliness',\n",
    " 'review_scores_checkin', 'host_listings_count', 'minimum_minimum_nights', 'host_total_listings_count',\n",
    " 'maximum_minimum_nights',\n",
    " 'minimum_maximum_nights',\n",
    " 'maximum_maximum_nights',\n",
    " 'minimum_nights_avg_ntm',\n",
    " 'maximum_nights_avg_ntm',\n",
    " 'review_scores_communication',\n",
    " 'review_scores_location', \n",
    " 'review_scores_value',\n",
    " 'reviews_per_month', 'price'], axis = 1)"
   ]
  },
  {
   "cell_type": "code",
   "execution_count": 241,
   "metadata": {},
   "outputs": [
    {
     "data": {
      "text/plain": [
       "[]"
      ]
     },
     "execution_count": 241,
     "metadata": {},
     "output_type": "execute_result"
    }
   ],
   "source": [
    "[x for x in dummy_encoded.columns if 'longitude' in x]"
   ]
  },
  {
   "cell_type": "code",
   "execution_count": 242,
   "metadata": {},
   "outputs": [
    {
     "data": {
      "text/html": [
       "<div>\n",
       "<style scoped>\n",
       "    .dataframe tbody tr th:only-of-type {\n",
       "        vertical-align: middle;\n",
       "    }\n",
       "\n",
       "    .dataframe tbody tr th {\n",
       "        vertical-align: top;\n",
       "    }\n",
       "\n",
       "    .dataframe thead th {\n",
       "        text-align: right;\n",
       "    }\n",
       "</style>\n",
       "<table border=\"1\" class=\"dataframe\">\n",
       "  <thead>\n",
       "    <tr style=\"text-align: right;\">\n",
       "      <th></th>\n",
       "      <th>colnames</th>\n",
       "      <th>nulls</th>\n",
       "    </tr>\n",
       "  </thead>\n",
       "  <tbody>\n",
       "    <tr>\n",
       "      <th>0</th>\n",
       "      <td>host_response_rate</td>\n",
       "      <td>0</td>\n",
       "    </tr>\n",
       "    <tr>\n",
       "      <th>133</th>\n",
       "      <td>calendar_updated_3 months ago</td>\n",
       "      <td>0</td>\n",
       "    </tr>\n",
       "    <tr>\n",
       "      <th>113</th>\n",
       "      <td>calendar_updated_14 months ago</td>\n",
       "      <td>0</td>\n",
       "    </tr>\n",
       "    <tr>\n",
       "      <th>114</th>\n",
       "      <td>calendar_updated_15 months ago</td>\n",
       "      <td>0</td>\n",
       "    </tr>\n",
       "    <tr>\n",
       "      <th>115</th>\n",
       "      <td>calendar_updated_16 months ago</td>\n",
       "      <td>0</td>\n",
       "    </tr>\n",
       "    <tr>\n",
       "      <th>...</th>\n",
       "      <td>...</td>\n",
       "      <td>...</td>\n",
       "    </tr>\n",
       "    <tr>\n",
       "      <th>61</th>\n",
       "      <td>neighbourhood_cleansed_Parkside</td>\n",
       "      <td>0</td>\n",
       "    </tr>\n",
       "    <tr>\n",
       "      <th>62</th>\n",
       "      <td>neighbourhood_cleansed_Potrero Hill</td>\n",
       "      <td>0</td>\n",
       "    </tr>\n",
       "    <tr>\n",
       "      <th>63</th>\n",
       "      <td>neighbourhood_cleansed_Presidio</td>\n",
       "      <td>0</td>\n",
       "    </tr>\n",
       "    <tr>\n",
       "      <th>64</th>\n",
       "      <td>neighbourhood_cleansed_Presidio Heights</td>\n",
       "      <td>0</td>\n",
       "    </tr>\n",
       "    <tr>\n",
       "      <th>177</th>\n",
       "      <td>cancellation_policy_super_strict_60</td>\n",
       "      <td>0</td>\n",
       "    </tr>\n",
       "  </tbody>\n",
       "</table>\n",
       "<p>178 rows × 2 columns</p>\n",
       "</div>"
      ],
      "text/plain": [
       "                                    colnames  nulls\n",
       "0                         host_response_rate      0\n",
       "133            calendar_updated_3 months ago      0\n",
       "113           calendar_updated_14 months ago      0\n",
       "114           calendar_updated_15 months ago      0\n",
       "115           calendar_updated_16 months ago      0\n",
       "..                                       ...    ...\n",
       "61           neighbourhood_cleansed_Parkside      0\n",
       "62       neighbourhood_cleansed_Potrero Hill      0\n",
       "63           neighbourhood_cleansed_Presidio      0\n",
       "64   neighbourhood_cleansed_Presidio Heights      0\n",
       "177      cancellation_policy_super_strict_60      0\n",
       "\n",
       "[178 rows x 2 columns]"
      ]
     },
     "execution_count": 242,
     "metadata": {},
     "output_type": "execute_result"
    }
   ],
   "source": [
    "X.isnull().sum().reset_index().rename(columns={'index':'colnames', \n",
    "                                                           0:'nulls'}).sort_values('nulls', ascending= False)"
   ]
  },
  {
   "cell_type": "code",
   "execution_count": 331,
   "metadata": {},
   "outputs": [],
   "source": [
    "y = dummy_encoded['review_scores_rating']"
   ]
  },
  {
   "cell_type": "code",
   "execution_count": 332,
   "metadata": {},
   "outputs": [],
   "source": [
    "X = dummy_encoded.drop('review_scores_rating', axis = 1)\n",
    "X = X.fillna(0)"
   ]
  },
  {
   "cell_type": "code",
   "execution_count": 333,
   "metadata": {},
   "outputs": [
    {
     "data": {
      "text/plain": [
       "RandomForestRegressor(bootstrap=True, criterion='mse', max_depth=50,\n",
       "           max_features='auto', max_leaf_nodes=None,\n",
       "           min_impurity_decrease=0.0, min_impurity_split=None,\n",
       "           min_samples_leaf=1, min_samples_split=2,\n",
       "           min_weight_fraction_leaf=0.0, n_estimators=1000, n_jobs=None,\n",
       "           oob_score=False, random_state=42, verbose=0, warm_start=False)"
      ]
     },
     "execution_count": 333,
     "metadata": {},
     "output_type": "execute_result"
    }
   ],
   "source": [
    "forest = RandomForestRegressor(random_state=42, n_estimators=1000, max_depth=50)\n",
    "forest.fit(X,y)"
   ]
  },
  {
   "cell_type": "code",
   "execution_count": 334,
   "metadata": {},
   "outputs": [],
   "source": [
    "columns = pd.DataFrame(X.columns,columns={'colnames'})\n",
    "columns['importance'] = forest.feature_importances_"
   ]
  },
  {
   "cell_type": "code",
   "execution_count": 335,
   "metadata": {},
   "outputs": [],
   "source": [
    "columns = columns.sort_values('importance', ascending=False)"
   ]
  },
  {
   "cell_type": "code",
   "execution_count": 336,
   "metadata": {},
   "outputs": [],
   "source": [
    "columns.to_csv('./ratings_random_forest4.csv')"
   ]
  },
  {
   "cell_type": "code",
   "execution_count": 323,
   "metadata": {},
   "outputs": [
    {
     "data": {
      "text/plain": [
       "['host_total_listings_count',\n",
       " 'calculated_host_listings_count',\n",
       " 'calculated_host_listings_count_entire_homes',\n",
       " 'calculated_host_listings_count_private_rooms',\n",
       " 'calculated_host_listings_count_shared_rooms']"
      ]
     },
     "execution_count": 323,
     "metadata": {},
     "output_type": "execute_result"
    }
   ],
   "source": [
    "[x for x in X.columns if 'listings' in x]"
   ]
  },
  {
   "cell_type": "code",
   "execution_count": 185,
   "metadata": {},
   "outputs": [],
   "source": [
    "parameters = {'max_depth':[10,20, 50]}"
   ]
  },
  {
   "cell_type": "code",
   "execution_count": 186,
   "metadata": {},
   "outputs": [
    {
     "name": "stdout",
     "output_type": "stream",
     "text": [
      "Fitting 2 folds for each of 3 candidates, totalling 6 fits\n"
     ]
    },
    {
     "name": "stderr",
     "output_type": "stream",
     "text": [
      "[Parallel(n_jobs=-1)]: Using backend LokyBackend with 8 concurrent workers.\n",
      "[Parallel(n_jobs=-1)]: Done   6 out of   6 | elapsed:  1.3min finished\n"
     ]
    },
    {
     "data": {
      "text/plain": [
       "GridSearchCV(cv=2, error_score='raise-deprecating',\n",
       "       estimator=RandomForestRegressor(bootstrap=True, criterion='mse', max_depth=None,\n",
       "           max_features='auto', max_leaf_nodes=None,\n",
       "           min_impurity_decrease=0.0, min_impurity_split=None,\n",
       "           min_samples_leaf=1, min_samples_split=2,\n",
       "           min_weight_fraction_leaf=0.0, n_estimators=1000, n_jobs=None,\n",
       "           oob_score=False, random_state=42, verbose=0, warm_start=False),\n",
       "       fit_params=None, iid='warn', n_jobs=-1,\n",
       "       param_grid={'max_depth': [50, 75, 100]}, pre_dispatch='2*n_jobs',\n",
       "       refit=True, return_train_score='warn', scoring=None, verbose=1)"
      ]
     },
     "execution_count": 186,
     "metadata": {},
     "output_type": "execute_result"
    }
   ],
   "source": [
    "clf = GridSearchCV(forest, parameters, verbose=1, n_jobs= -1, cv=2)\n",
    "clf.fit(X,y)"
   ]
  },
  {
   "cell_type": "code",
   "execution_count": 189,
   "metadata": {},
   "outputs": [
    {
     "data": {
      "text/plain": [
       "RandomForestRegressor(bootstrap=True, criterion='mse', max_depth=50,\n",
       "           max_features='auto', max_leaf_nodes=None,\n",
       "           min_impurity_decrease=0.0, min_impurity_split=None,\n",
       "           min_samples_leaf=1, min_samples_split=2,\n",
       "           min_weight_fraction_leaf=0.0, n_estimators=1000, n_jobs=None,\n",
       "           oob_score=False, random_state=42, verbose=0, warm_start=False)"
      ]
     },
     "execution_count": 189,
     "metadata": {},
     "output_type": "execute_result"
    }
   ],
   "source": [
    "clf.best_estimator_"
   ]
  },
  {
   "cell_type": "code",
   "execution_count": 182,
   "metadata": {},
   "outputs": [
    {
     "data": {
      "text/plain": [
       "(6460, 187)"
      ]
     },
     "execution_count": 182,
     "metadata": {},
     "output_type": "execute_result"
    }
   ],
   "source": [
    "X.shape"
   ]
  },
  {
   "cell_type": "code",
   "execution_count": 198,
   "metadata": {},
   "outputs": [
    {
     "name": "stderr",
     "output_type": "stream",
     "text": [
      "/Library/Frameworks/Python.framework/Versions/3.7/lib/python3.7/site-packages/statsmodels/compat/pandas.py:49: FutureWarning: The Panel class is removed from pandas. Accessing it from the top-level namespace will also be removed in the next version\n",
      "  data_klasses = (pandas.Series, pandas.DataFrame, pandas.Panel)\n"
     ]
    }
   ],
   "source": [
    "import statsmodels.api as sm"
   ]
  },
  {
   "cell_type": "code",
   "execution_count": 337,
   "metadata": {},
   "outputs": [],
   "source": [
    "mod = sm.OLS( y, X)"
   ]
  },
  {
   "cell_type": "code",
   "execution_count": 338,
   "metadata": {},
   "outputs": [],
   "source": [
    "res = mod.fit()"
   ]
  },
  {
   "cell_type": "code",
   "execution_count": 339,
   "metadata": {
    "scrolled": false
   },
   "outputs": [
    {
     "name": "stdout",
     "output_type": "stream",
     "text": [
      "                             OLS Regression Results                             \n",
      "================================================================================\n",
      "Dep. Variable:     review_scores_rating   R-squared:                       0.221\n",
      "Model:                              OLS   Adj. R-squared:                  0.200\n",
      "Method:                   Least Squares   F-statistic:                     10.81\n",
      "Date:                  Sat, 07 Dec 2019   Prob (F-statistic):          2.95e-231\n",
      "Time:                          18:20:45   Log-Likelihood:                -21437.\n",
      "No. Observations:                  6460   AIC:                         4.321e+04\n",
      "Df Residuals:                      6294   BIC:                         4.433e+04\n",
      "Df Model:                           165                                         \n",
      "Covariance Type:              nonrobust                                         \n",
      "===================================================================================================================\n",
      "                                                      coef    std err          t      P>|t|      [0.025      0.975]\n",
      "-------------------------------------------------------------------------------------------------------------------\n",
      "host_response_rate                                  0.0224      0.015      1.488      0.137      -0.007       0.052\n",
      "host_is_superhost                                   3.3866      0.197     17.226      0.000       3.001       3.772\n",
      "host_has_profile_pic                                0.5490      1.040      0.528      0.598      -1.490       2.588\n",
      "host_identity_verified                              0.3174      0.188      1.689      0.091      -0.051       0.686\n",
      "is_location_exact                                  -0.0888      0.269     -0.330      0.742      -0.617       0.439\n",
      "accommodates                                        0.3379      0.097      3.481      0.001       0.148       0.528\n",
      "bathrooms                                          -0.3542      0.120     -2.956      0.003      -0.589      -0.119\n",
      "bedrooms                                            0.2049      0.175      1.168      0.243      -0.139       0.549\n",
      "beds                                               -0.3420      0.149     -2.298      0.022      -0.634      -0.050\n",
      "security_deposit                                 9.403e-05      0.000      0.630      0.529      -0.000       0.000\n",
      "cleaning_fee                                        0.0027      0.002      1.769      0.077      -0.000       0.006\n",
      "guests_included                                    -0.1781      0.084     -2.120      0.034      -0.343      -0.013\n",
      "extra_people                                        0.0049      0.003      1.681      0.093      -0.001       0.011\n",
      "minimum_nights                                   5.685e-05   6.35e-05      0.896      0.370   -6.76e-05       0.000\n",
      "maximum_nights                                  -5.692e-05   6.35e-05     -0.897      0.370      -0.000    6.75e-05\n",
      "availability_30                                    -0.0143      0.024     -0.591      0.555      -0.062       0.033\n",
      "availability_60                                     0.0055      0.023      0.233      0.815      -0.041       0.052\n",
      "availability_90                                    -0.0122      0.012     -1.016      0.310      -0.036       0.011\n",
      "availability_365                                   -0.0043      0.001     -4.689      0.000      -0.006      -0.003\n",
      "requires_license                                    1.2708      1.156      1.099      0.272      -0.995       3.537\n",
      "instant_bookable                                   -0.5663      0.197     -2.873      0.004      -0.953      -0.180\n",
      "require_guest_profile_picture                      -0.6761      0.716     -0.945      0.345      -2.079       0.727\n",
      "require_guest_phone_verification                    0.2311      0.643      0.360      0.719      -1.029       1.491\n",
      "calculated_host_listings_count                      0.1830      0.041      4.447      0.000       0.102       0.264\n",
      "calculated_host_listings_count_entire_homes        -0.1972      0.041     -4.762      0.000      -0.278      -0.116\n",
      "calculated_host_listings_count_private_rooms       -0.2476      0.050     -4.985      0.000      -0.345      -0.150\n",
      "calculated_host_listings_count_shared_rooms        -0.7136      0.069    -10.302      0.000      -0.849      -0.578\n",
      "with_wifi                                           2.9454      0.847      3.479      0.001       1.286       4.605\n",
      "with_air_conditioning                               1.0573      0.317      3.336      0.001       0.436       1.679\n",
      "with_cable_tv                                       0.5782      0.192      3.017      0.003       0.203       0.954\n",
      "pets_allowed                                       -0.8649      0.295     -2.932      0.003      -1.443      -0.287\n",
      "host_response_time_a few days or more               0.8943      1.054      0.849      0.396      -1.171       2.960\n",
      "host_response_time_within a day                    -3.3445      1.401     -2.388      0.017      -6.090      -0.599\n",
      "host_response_time_within a few hours              -4.2669      1.511     -2.823      0.005      -7.230      -1.304\n",
      "host_response_time_within an hour                  -3.9787      1.531     -2.598      0.009      -6.981      -0.977\n",
      "neighbourhood_cleansed_Bayview                      2.3014      0.584      3.942      0.000       1.157       3.446\n",
      "neighbourhood_cleansed_Bernal Heights               3.6506      0.438      8.326      0.000       2.791       4.510\n",
      "neighbourhood_cleansed_Castro/Upper Market          4.6635      0.434     10.753      0.000       3.813       5.514\n",
      "neighbourhood_cleansed_Chinatown                    4.1153      0.798      5.159      0.000       2.552       5.679\n",
      "neighbourhood_cleansed_Crocker Amazon               0.9877      1.045      0.946      0.344      -1.060       3.035\n",
      "neighbourhood_cleansed_Diamond Heights              4.6684      1.681      2.777      0.006       1.372       7.964\n",
      "neighbourhood_cleansed_Downtown/Civic Center        0.4640      0.464      0.999      0.318      -0.446       1.374\n",
      "neighbourhood_cleansed_Excelsior                    3.0705      0.587      5.228      0.000       1.919       4.222\n",
      "neighbourhood_cleansed_Financial District           5.7568      0.778      7.395      0.000       4.231       7.283\n",
      "neighbourhood_cleansed_Glen Park                    4.8167      0.902      5.338      0.000       3.048       6.586\n",
      "neighbourhood_cleansed_Golden Gate Park             2.5540      3.328      0.767      0.443      -3.969       9.077\n",
      "neighbourhood_cleansed_Haight Ashbury               3.7142      0.470      7.898      0.000       2.792       4.636\n",
      "neighbourhood_cleansed_Inner Richmond               2.5118      0.558      4.503      0.000       1.418       3.605\n",
      "neighbourhood_cleansed_Inner Sunset                 3.9992      0.602      6.647      0.000       2.820       5.179\n",
      "neighbourhood_cleansed_Lakeshore                    1.5085      1.035      1.458      0.145      -0.520       3.537\n",
      "neighbourhood_cleansed_Marina                       3.1416      0.622      5.050      0.000       1.922       4.361\n",
      "neighbourhood_cleansed_Mission                      3.5422      0.373      9.504      0.000       2.812       4.273\n",
      "neighbourhood_cleansed_Nob Hill                     3.5973      0.552      6.521      0.000       2.516       4.679\n",
      "neighbourhood_cleansed_Noe Valley                   4.0158      0.464      8.659      0.000       3.107       4.925\n",
      "neighbourhood_cleansed_North Beach                  4.1824      0.688      6.075      0.000       2.833       5.532\n",
      "neighbourhood_cleansed_Ocean View                   3.8234      0.707      5.409      0.000       2.438       5.209\n",
      "neighbourhood_cleansed_Outer Mission                3.7703      0.583      6.467      0.000       2.627       4.913\n",
      "neighbourhood_cleansed_Outer Richmond               3.3014      0.586      5.637      0.000       2.153       4.449\n",
      "neighbourhood_cleansed_Outer Sunset                 2.9321      0.480      6.110      0.000       1.991       3.873\n",
      "neighbourhood_cleansed_Pacific Heights              4.2718      0.641      6.662      0.000       3.015       5.529\n",
      "neighbourhood_cleansed_Parkside                     4.0180      0.664      6.054      0.000       2.717       5.319\n",
      "neighbourhood_cleansed_Potrero Hill                 4.0994      0.534      7.684      0.000       3.054       5.145\n",
      "neighbourhood_cleansed_Presidio                     2.5213      6.619      0.381      0.703     -10.454      15.497\n",
      "neighbourhood_cleansed_Presidio Heights             4.6165      1.686      2.738      0.006       1.312       7.921\n",
      "neighbourhood_cleansed_Russian Hill                 3.2568      0.630      5.171      0.000       2.022       4.492\n",
      "neighbourhood_cleansed_Seacliff                     3.9544      1.545      2.560      0.011       0.926       6.983\n",
      "neighbourhood_cleansed_South of Market              3.7077      0.444      8.347      0.000       2.837       4.578\n",
      "neighbourhood_cleansed_Treasure Island/YBI      -2.454e-14   1.31e-14     -1.876      0.061   -5.02e-14     1.1e-15\n",
      "neighbourhood_cleansed_Twin Peaks                   3.6130      0.890      4.061      0.000       1.869       5.357\n",
      "neighbourhood_cleansed_Visitacion Valley            2.7747      0.815      3.403      0.001       1.176       4.373\n",
      "neighbourhood_cleansed_West of Twin Peaks           3.2968      0.661      4.986      0.000       2.001       4.593\n",
      "neighbourhood_cleansed_Western Addition             3.2233      0.401      8.041      0.000       2.437       4.009\n",
      "property_type_Aparthotel                            1.1952      1.265      0.945      0.345      -1.285       3.675\n",
      "property_type_Apartment                             4.5807      0.586      7.822      0.000       3.433       5.729\n",
      "property_type_Bed and breakfast                    10.6742      1.343      7.947      0.000       8.041      13.307\n",
      "property_type_Boutique hotel                        6.0114      0.883      6.811      0.000       4.281       7.741\n",
      "property_type_Bungalow                              4.3764      1.799      2.432      0.015       0.849       7.903\n",
      "property_type_Cabin                                 6.4033      4.659      1.374      0.169      -2.730      15.537\n",
      "property_type_Camper/RV                         -1.555e-14    6.7e-15     -2.320      0.020   -2.87e-14   -2.41e-15\n",
      "property_type_Castle                                6.3026      3.392      1.858      0.063      -0.346      12.951\n",
      "property_type_Condominium                           5.9806      0.624      9.588      0.000       4.758       7.203\n",
      "property_type_Cottage                               0.5568      1.977      0.282      0.778      -3.319       4.432\n",
      "property_type_Dome house                            4.3015      6.568      0.655      0.513      -8.574      17.177\n",
      "property_type_Earth house                           5.5510      4.663      1.191      0.234      -3.589      14.691\n",
      "property_type_Guest suite                           4.9181      0.647      7.606      0.000       3.650       6.186\n",
      "property_type_Guesthouse                            6.2126      1.211      5.132      0.000       3.839       8.586\n",
      "property_type_Hostel                                4.6862      1.150      4.076      0.000       2.432       6.940\n",
      "property_type_Hotel                                 4.0711      0.966      4.216      0.000       2.178       5.964\n",
      "property_type_House                                 5.2406      0.592      8.854      0.000       4.080       6.401\n",
      "property_type_Hut                                1.439e-14   8.05e-15      1.787      0.074   -1.39e-15    3.02e-14\n",
      "property_type_In-law                                5.6559      6.553      0.863      0.388      -7.190      18.502\n",
      "property_type_Loft                                  5.4354      0.948      5.733      0.000       3.577       7.294\n",
      "property_type_Other                                 3.5676      1.497      2.383      0.017       0.633       6.503\n",
      "property_type_Resort                                9.1000      2.307      3.944      0.000       4.577      13.623\n",
      "property_type_Serviced apartment                    5.8505      0.985      5.939      0.000       3.919       7.782\n",
      "property_type_Tiny house                            1.8130      3.835      0.473      0.636      -5.705       9.331\n",
      "property_type_Townhouse                             4.7786      0.832      5.746      0.000       3.148       6.409\n",
      "property_type_Villa                                 7.1796      2.417      2.971      0.003       2.442      11.917\n",
      "room_type_Entire home/apt                          31.7581      0.831     38.237      0.000      30.130      33.386\n",
      "room_type_Hotel room                               24.9838      1.083     23.073      0.000      22.861      27.106\n",
      "room_type_Private room                             31.7969      0.827     38.461      0.000      30.176      33.418\n",
      "room_type_Shared room                              35.9041      1.074     33.441      0.000      33.799      38.009\n",
      "bed_type_Airbed                                    23.5715      1.929     12.218      0.000      19.789      27.353\n",
      "bed_type_Couch                                     25.4338      2.510     10.134      0.000      20.514      30.354\n",
      "bed_type_Futon                                     25.1181      1.323     18.984      0.000      22.524      27.712\n",
      "bed_type_Pull-out Sofa                             25.5230      1.621     15.742      0.000      22.345      28.701\n",
      "bed_type_Real Bed                                  24.7964      0.821     30.208      0.000      23.187      26.406\n",
      "calendar_updated_1 week ago                         6.0347      1.225      4.927      0.000       3.634       8.436\n",
      "calendar_updated_10 months ago                      4.8801      1.342      3.636      0.000       2.249       7.511\n",
      "calendar_updated_11 months ago                      3.8149      1.373      2.778      0.005       1.122       6.507\n",
      "calendar_updated_12 months ago                      5.6482      1.327      4.258      0.000       3.048       8.249\n",
      "calendar_updated_13 months ago                      5.7877      1.533      3.775      0.000       2.783       8.793\n",
      "calendar_updated_14 months ago                      3.7084      1.646      2.253      0.024       0.482       6.935\n",
      "calendar_updated_15 months ago                      6.0197      1.428      4.215      0.000       3.220       8.820\n",
      "calendar_updated_16 months ago                      5.4072      1.737      3.113      0.002       2.002       8.813\n",
      "calendar_updated_17 months ago                      4.4353      1.472      3.013      0.003       1.549       7.321\n",
      "calendar_updated_18 months ago                      5.9723      1.372      4.353      0.000       3.283       8.662\n",
      "calendar_updated_19 months ago                      1.1800      1.546      0.763      0.445      -1.851       4.211\n",
      "calendar_updated_2 days ago                         4.9900      0.895      5.573      0.000       3.235       6.745\n",
      "calendar_updated_2 months ago                       5.6861      0.584      9.733      0.000       4.541       6.831\n",
      "calendar_updated_2 weeks ago                        4.6282      0.553      8.375      0.000       3.545       5.711\n",
      "calendar_updated_20 months ago                      5.7372      2.568      2.234      0.025       0.704      10.771\n",
      "calendar_updated_21 months ago                      6.2889      1.741      3.612      0.000       2.876       9.702\n",
      "calendar_updated_22 months ago                      5.1236      1.850      2.769      0.006       1.496       8.751\n",
      "calendar_updated_23 months ago                     -2.4295      3.894     -0.624      0.533     -10.064       5.205\n",
      "calendar_updated_24 months ago                      5.3851      2.774      1.941      0.052      -0.053      10.823\n",
      "calendar_updated_25 months ago                      7.7869      3.039      2.562      0.010       1.829      13.745\n",
      "calendar_updated_26 months ago                      8.7766      2.780      3.157      0.002       3.328      14.226\n",
      "calendar_updated_27 months ago                      7.2764      3.388      2.148      0.032       0.635      13.918\n",
      "calendar_updated_28 months ago                      7.4358      4.748      1.566      0.117      -1.871      16.743\n",
      "calendar_updated_29 months ago                      9.5539      4.782      1.998      0.046       0.180      18.928\n",
      "calendar_updated_3 days ago                         6.5729      0.690      9.527      0.000       5.220       7.925\n",
      "calendar_updated_3 months ago                       4.3625      0.605      7.214      0.000       3.177       5.548\n",
      "calendar_updated_3 weeks ago                        5.3229      0.594      8.960      0.000       4.158       6.488\n",
      "calendar_updated_30 months ago                      7.5995      6.726      1.130      0.259      -5.586      20.785\n",
      "calendar_updated_31 months ago                      8.8684      6.788      1.307      0.191      -4.437      22.174\n",
      "calendar_updated_32 months ago                      7.8440      4.755      1.650      0.099      -1.478      17.166\n",
      "calendar_updated_33 months ago                      5.9251      6.705      0.884      0.377      -7.218      19.069\n",
      "calendar_updated_34 months ago                      9.6065      4.754      2.021      0.043       0.288      18.925\n",
      "calendar_updated_35 months ago                      6.0959      4.765      1.279      0.201      -3.245      15.436\n",
      "calendar_updated_36 months ago                      0.2970      3.896      0.076      0.939      -7.340       7.934\n",
      "calendar_updated_37 months ago                   1.007e-14   3.15e-15      3.199      0.001     3.9e-15    1.62e-14\n",
      "calendar_updated_39 months ago                    -31.1043      6.721     -4.628      0.000     -44.280     -17.928\n",
      "calendar_updated_4 days ago                         6.2124      0.670      9.271      0.000       4.899       7.526\n",
      "calendar_updated_4 months ago                       5.3119      0.701      7.573      0.000       3.937       6.687\n",
      "calendar_updated_4 weeks ago                        4.8240      0.603      8.002      0.000       3.642       6.006\n",
      "calendar_updated_40 months ago                      5.4177      4.756      1.139      0.255      -3.906      14.742\n",
      "calendar_updated_41 months ago                      8.6833      6.710      1.294      0.196      -4.470      21.837\n",
      "calendar_updated_42 months ago                    -24.6115      6.701     -3.673      0.000     -37.748     -11.475\n",
      "calendar_updated_43 months ago                     -9.1477      4.754     -1.924      0.054     -18.467       0.172\n",
      "calendar_updated_44 months ago                      8.4875      6.695      1.268      0.205      -4.638      21.613\n",
      "calendar_updated_48 months ago                      0.3568      6.698      0.053      0.958     -12.773      13.486\n",
      "calendar_updated_5 days ago                         5.7474      0.688      8.354      0.000       4.399       7.096\n",
      "calendar_updated_5 months ago                       5.2284      0.705      7.416      0.000       3.846       6.610\n",
      "calendar_updated_5 weeks ago                        4.5023      0.568      7.928      0.000       3.389       5.616\n",
      "calendar_updated_50 months ago                  -1.057e-14   2.12e-15     -4.982      0.000   -1.47e-14   -6.41e-15\n",
      "calendar_updated_51 months ago                     -9.5730      4.768     -2.008      0.045     -18.920      -0.227\n",
      "calendar_updated_6 days ago                         6.4133      0.775      8.277      0.000       4.894       7.932\n",
      "calendar_updated_6 months ago                       4.2055      0.735      5.722      0.000       2.765       5.646\n",
      "calendar_updated_6 weeks ago                        4.5678      0.677      6.750      0.000       3.241       5.894\n",
      "calendar_updated_64 months ago                    -12.0274      6.741     -1.784      0.074     -25.242       1.187\n",
      "calendar_updated_7 months ago                       5.0537      0.789      6.406      0.000       3.507       6.600\n",
      "calendar_updated_7 weeks ago                        5.9419      0.751      7.907      0.000       4.469       7.415\n",
      "calendar_updated_79 months ago                    -17.3876      6.736     -2.581      0.010     -30.593      -4.182\n",
      "calendar_updated_8 months ago                       5.4715      0.949      5.764      0.000       3.611       7.332\n",
      "calendar_updated_86 months ago                    -69.2087      6.704    -10.323      0.000     -82.351     -56.066\n",
      "calendar_updated_9 months ago                       3.3920      1.112      3.049      0.002       1.211       5.572\n",
      "calendar_updated_a week ago                         5.3202      0.574      9.266      0.000       4.195       6.446\n",
      "calendar_updated_never                                   0          0        nan        nan           0           0\n",
      "calendar_updated_today                              5.0289      0.554      9.082      0.000       3.943       6.114\n",
      "calendar_updated_yesterday                          5.7140      0.658      8.687      0.000       4.425       7.003\n",
      "cancellation_policy_flexible                       22.0939      0.685     32.271      0.000      20.752      23.436\n",
      "cancellation_policy_moderate                       21.7760      0.684     31.854      0.000      20.436      23.116\n",
      "cancellation_policy_strict                         18.6116      1.469     12.665      0.000      15.731      21.492\n",
      "cancellation_policy_strict_14_with_grace_period    21.3262      0.685     31.147      0.000      19.984      22.668\n",
      "cancellation_policy_super_strict_30                20.1722      1.238     16.294      0.000      17.745      22.599\n",
      "cancellation_policy_super_strict_60                20.4628      2.107      9.712      0.000      16.332      24.593\n",
      "==============================================================================\n",
      "Omnibus:                     5293.367   Durbin-Watson:                   1.990\n",
      "Prob(Omnibus):                  0.000   Jarque-Bera (JB):           198899.084\n",
      "Skew:                          -3.693   Prob(JB):                         0.00\n",
      "Kurtosis:                      29.161   Cond. No.                     2.11e+21\n",
      "==============================================================================\n",
      "\n",
      "Warnings:\n",
      "[1] Standard Errors assume that the covariance matrix of the errors is correctly specified.\n",
      "[2] The smallest eigenvalue is 4.48e-27. This might indicate that there are\n",
      "strong multicollinearity problems or that the design matrix is singular.\n"
     ]
    },
    {
     "name": "stderr",
     "output_type": "stream",
     "text": [
      "/Library/Frameworks/Python.framework/Versions/3.7/lib/python3.7/site-packages/statsmodels/base/model.py:1100: RuntimeWarning: invalid value encountered in true_divide\n",
      "  return self.params / self.bse\n",
      "/Library/Frameworks/Python.framework/Versions/3.7/lib/python3.7/site-packages/scipy/stats/_distn_infrastructure.py:877: RuntimeWarning: invalid value encountered in greater\n",
      "  return (self.a < x) & (x < self.b)\n",
      "/Library/Frameworks/Python.framework/Versions/3.7/lib/python3.7/site-packages/scipy/stats/_distn_infrastructure.py:877: RuntimeWarning: invalid value encountered in less\n",
      "  return (self.a < x) & (x < self.b)\n",
      "/Library/Frameworks/Python.framework/Versions/3.7/lib/python3.7/site-packages/scipy/stats/_distn_infrastructure.py:1831: RuntimeWarning: invalid value encountered in less_equal\n",
      "  cond2 = cond0 & (x <= self.a)\n"
     ]
    }
   ],
   "source": [
    "print(res.summary())"
   ]
  },
  {
   "cell_type": "code",
   "execution_count": null,
   "metadata": {
    "scrolled": false
   },
   "outputs": [],
   "source": []
  },
  {
   "cell_type": "code",
   "execution_count": null,
   "metadata": {},
   "outputs": [],
   "source": []
  }
 ],
 "metadata": {
  "kernelspec": {
   "display_name": "Python 3",
   "language": "python",
   "name": "python3"
  },
  "language_info": {
   "codemirror_mode": {
    "name": "ipython",
    "version": 3
   },
   "file_extension": ".py",
   "mimetype": "text/x-python",
   "name": "python",
   "nbconvert_exporter": "python",
   "pygments_lexer": "ipython3",
   "version": "3.7.2"
  },
  "toc": {
   "base_numbering": 1,
   "nav_menu": {},
   "number_sections": true,
   "sideBar": true,
   "skip_h1_title": false,
   "title_cell": "Table of Contents",
   "title_sidebar": "Contents",
   "toc_cell": false,
   "toc_position": {},
   "toc_section_display": true,
   "toc_window_display": false
  },
  "varInspector": {
   "cols": {
    "lenName": 16,
    "lenType": 16,
    "lenVar": 40
   },
   "kernels_config": {
    "python": {
     "delete_cmd_postfix": "",
     "delete_cmd_prefix": "del ",
     "library": "var_list.py",
     "varRefreshCmd": "print(var_dic_list())"
    },
    "r": {
     "delete_cmd_postfix": ") ",
     "delete_cmd_prefix": "rm(",
     "library": "var_list.r",
     "varRefreshCmd": "cat(var_dic_list()) "
    }
   },
   "oldHeight": 122,
   "position": {
    "height": "40px",
    "left": "1170px",
    "right": "20px",
    "top": "120px",
    "width": "250px"
   },
   "types_to_exclude": [
    "module",
    "function",
    "builtin_function_or_method",
    "instance",
    "_Feature"
   ],
   "varInspector_section_display": "none",
   "window_display": true
  }
 },
 "nbformat": 4,
 "nbformat_minor": 2
}
